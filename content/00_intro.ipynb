{
 "cells": [
  {
   "cell_type": "markdown",
   "metadata": {},
   "source": [
    "<img src=\"images/logo/portada_libro.png\" alt=\"Logos UIA UAM-I\"/>"
   ]
  },
  {
   "cell_type": "markdown",
   "metadata": {},
   "source": [
    "En este libro proponemos abordar el diseño de soluciones de lógica digital como problemas de matemáticas discretas aplicadas, separando claramente los fundamentos teóricos, las implementaciones electrónicas de las variables y funciones lógicas, y la formulación moderna de soluciones digitales en lógica reconfigurable."
   ]
  },
  {
   "cell_type": "markdown",
   "metadata": {},
   "source": [
    "Algunas cosas que hacen diferente a este libro respecto a los cientos de libros de lógica digital existentes son:\n",
    "\n",
    "* cada problema tiene una solución matemática formal\n",
    "* la versión electrónica es interactiva, gracias al uso de [Python](https://www.python.org) y [jupyter](https://jupyter.org). Si te interersa ver el código de las demostraciones y ejercicios, da click en el símbolo \"+\" que verás a la derecha del bloque interactivo.\n",
    "* solo se presentan descripciones de hardware `sintetizables`\n"
   ]
  },
  {
   "cell_type": "markdown",
   "metadata": {},
   "source": [
    "### Para comenzar ...\n",
    "\n",
    "... dependiendo de tu conocimiento previo, puedes saltar a\n",
    "\n",
    "* las **[matemáticas](matematicas/algebra/00_algebra_indice)** de la lógica digital,\n",
    "* la **[electrónica](electronica/conmutacion/00_electronica_indice)** de la lógica digital,\n",
    "* las técnicas modernas de **[diseño](reconfig/00_reconfig_indice)** de soluciones,\n",
    "* o a las **[aplicaciones](aplicaciones/00_aplicaciones_indice)**\n",
    "\n",
    "### Reconocimientos\n",
    "\n",
    "El abordaje de estos temas es el resultado de los años combinados de los autores dando clases de Lógica Digital en la U Iberoamericana y la UAM Iztapalapa"
   ]
  },
  {
   "cell_type": "markdown",
   "metadata": {},
   "source": [
    "<img src=\"https://mirrors.creativecommons.org/presskit/buttons/88x31/png/by-sa.png\" alt=\"License\" width=\"100\" align=\"left\"/>"
   ]
  },
  {
   "cell_type": "code",
   "execution_count": null,
   "metadata": {},
   "outputs": [],
   "source": []
  }
 ],
 "metadata": {
  "kernelspec": {
   "display_name": "Python 3",
   "language": "python",
   "name": "python3"
  },
  "language_info": {
   "codemirror_mode": {
    "name": "ipython",
    "version": 3
   },
   "file_extension": ".py",
   "mimetype": "text/x-python",
   "name": "python",
   "nbconvert_exporter": "python",
   "pygments_lexer": "ipython3",
   "version": "3.6.8"
  }
 },
 "nbformat": 4,
 "nbformat_minor": 4
}
