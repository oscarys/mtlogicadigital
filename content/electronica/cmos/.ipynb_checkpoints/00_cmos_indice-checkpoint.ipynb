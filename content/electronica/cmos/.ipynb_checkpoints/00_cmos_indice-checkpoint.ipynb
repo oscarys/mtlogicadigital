{
 "cells": [
  {
   "cell_type": "markdown",
   "metadata": {},
   "source": [
    "# **TECNOLOGÍA CMOS**"
   ]
  },
  {
   "cell_type": "markdown",
   "metadata": {},
   "source": [
    "(intro al capítulo)"
   ]
  },
  {
   "cell_type": "markdown",
   "metadata": {},
   "source": [
    "## Índice del capítulo\n",
    "\n",
    "* **[Par complementario de transistores MOS](10_par_cmos)**\n",
    "* **[Circuitos de dos niveles](20_circuitos_dos_niveles)**\n",
    "* **[Multiplexores, decodificadores y memorias estáticas](30_muxes_decoders_memorias)**"
   ]
  },
  {
   "cell_type": "code",
   "execution_count": null,
   "metadata": {},
   "outputs": [],
   "source": []
  }
 ],
 "metadata": {
  "kernelspec": {
   "display_name": "Python 3",
   "language": "python",
   "name": "python3"
  },
  "language_info": {
   "codemirror_mode": {
    "name": "ipython",
    "version": 3
   },
   "file_extension": ".py",
   "mimetype": "text/x-python",
   "name": "python",
   "nbconvert_exporter": "python",
   "pygments_lexer": "ipython3",
   "version": "3.6.8"
  }
 },
 "nbformat": 4,
 "nbformat_minor": 4
}
