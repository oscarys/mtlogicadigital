{
 "cells": [
  {
   "cell_type": "markdown",
   "metadata": {},
   "source": [
    "# **Sistemas numéricos posicionales**"
   ]
  },
  {
   "cell_type": "markdown",
   "metadata": {},
   "source": [
    "El sistema decimal, con el que estamos familiarizados desde muy pequeños para contar y realizar operaciones, \n",
    "no es sino uno (muy práctico y conveniente) de entre infinitos **sistemas numéricos posicionales**. Todos ellos sirven para expresar cantidades. En esta sección formalizaremos la idea de estos sistemas, y la especializaremos a casos prácticos que son relevantes para la lógica digital."
   ]
  },
  {
   "cell_type": "markdown",
   "metadata": {},
   "source": [
    "## Definición"
   ]
  },
  {
   "cell_type": "markdown",
   "metadata": {},
   "source": [
    "Un sistema numérico posicional de **base** $B \\in \\mathbb{Z}^+$ consiste en un conjunto $C_B: \\{C_0,\\ldots,C_{B-1}\\}$ de $B$ **cifras** o símbolos con valor intrínseco y único, que se utilizan concatenadas para representar una cantidad $x$ _en base $B$_: \n",
    "\n",
    "$$x_B = (c_{n-1}c_n \\ldots c_1c_0)_B, \\, c_i \\in C_B$$\n",
    "\n",
    "según la siguiente regla: \n",
    " \n",
    "$$x_B = (c_{n-1}c_n \\ldots c_1c_0)_B = \\sum_{i=0}^{n-1}B^ic_i$$\n",
    "\n",
    "El caso al que estamos habituados es el de $B=10$, el sistema **decimal**. La base del sistema es 10, y las cifras son $C_{10}:\\{0,1,2,3,4,5,6,7,8,9\\}$, con el valor intrínseco que asociamos a cada una de esas cifras. Así, por ejemplo, si $x_{10}=(3146)_{10}$, sabemos que $x$ vale 3146 porque:\n",
    "\n",
    "$$3146_{10} = (3146)_{10} = \\sum_{i=0}^{3}{10}^ic_i = {10}^0 \\cdot 6 + {10}^1 \\cdot 4 + {10}^2 \\cdot 1 + {10}^3 \\cdot 3 = 6 + 40 + 100 + 3000$$  \n",
    "\n",
    "Como el sistema decimal es nuestro sistema de uso habitual, para simplificarnos la escritura de cantidades solemos dejar sin indicar la base, es decir que asumimos que $x = x_{10}$.\n",
    "\n",
    "¿Cuánto vale el número $(10110101)_2$? Primero que nada, reconocemos que la base es $B=2$ y decimos que $C_2:\\{0,1\\}$, con los valores intrínsecos a la vista. Con esta información sabemos que:\n",
    "\n",
    "$$(10110101)_2 = 2^0 \\cdot 1 + 2^1 \\cdot 0 + 2^2 \\cdot 1 +2^3 \\cdot 0 + 2^4 \\cdot 1 + 2^5 \\cdot 1 + 2^6 \\cdot 0 + 2^7 \\cdot 1 = 1+4+16+32+128=181$$\n",
    "\n",
    "Un ejemplo divertido es $ (31)_8 = 8^0 \\cdot 1 + 8^1 \\cdot 3 = 1 + 24 = 25 = (25)_{10} $. Si a la base $ B=8 $ la llamamos **octal** (abreviada OCT) y abreviamos la base decimal con DEC, el resultado anterior dice que 31 OCT es 25 DEC, ¿la Navidad y Halloween coinciden? (broma nerd). \n",
    "\n",
    "<img src=\"./broma_binaria.jpg\" alt=\"chiste de sistemas numéricos\" align=\"center\" width=300>\n",
    "\n",
    "Otros ejemplos:\n",
    "\n",
    "$$\\begin{align} \n",
    "(909)_{16} &= {16}^0 \\cdot 9 + {16}^1 \\cdot 0 + {16}^2 \\cdot 9 = 2313 \\\\ \n",
    "(231)_{5} &=  5^0 \\cdot 1 + 5^1 \\cdot 3 + 5^2 \\cdot 2 = 66\\\\\n",
    "(666)_{20} &= {20}^0 \\cdot 6 + {20}^1 \\cdot 6 + {20}^2 \\cdot 6 = 2526\\end{align}$$  \n",
    "\n",
    "Salta aquí una pregunta ¿cuáles son las 16 cifras de la base $B=16$ (hexadecimal), o las 20 cifras de la base $B=20$ (vigesimal)? En los ejemplos usamos cifras de valor intrínseco a la vista, pero tendríamos que detenernos a considerar las demás cifras. En el caso hexadecimal, $C_{16}:\\{0,1,2,3,4,5,6,7,8,9,A,B,C,D,E,F\\}$, con los valores intrínsecos faltantes siendo $A=10,B=11,C=12,D=13,E=14,F=15$. De modo que ¿cuánto vale la cantidad $(BEBE)_{16}$? Veamos:\n",
    "\n",
    "$$ (BEBE)_{16} = {16}^0 \\cdot 14 + {16}^1 \\cdot 11 + {16}^2 \\cdot 14 + {16}^3 \\cdot 11  = 48830$$"
   ]
  },
  {
   "cell_type": "code",
   "execution_count": 25,
   "metadata": {
    "tags": [
     "hide_input"
    ]
   },
   "outputs": [
    {
     "name": "stdout",
     "output_type": "stream",
     "text": [
      "Genera otro ejemplo automáticamente (falta resolver cómo)\n",
      "(709)_12 = 1017\n"
     ]
    }
   ],
   "source": [
    "import random\n",
    "valor = random.randrange(1,10000)\n",
    "val = valor\n",
    "base = 0\n",
    "while val > 1:\n",
    "    base = max(base,val%10)\n",
    "    val = val//10\n",
    "base = random.randrange(base+1,base+10)\n",
    "print('Genera otro ejemplo automáticamente (falta resolver cómo)')\n",
    "print('({})_{} = {}'.format(valor,base,int(str(valor),base)))"
   ]
  },
  {
   "cell_type": "markdown",
   "metadata": {},
   "source": [
    "## Conversión de base "
   ]
  },
  {
   "cell_type": "markdown",
   "metadata": {},
   "source": [
    "(pendiente)"
   ]
  },
  {
   "cell_type": "markdown",
   "metadata": {},
   "source": [
    "## Bases binaria, octal y hexadecimal"
   ]
  },
  {
   "cell_type": "markdown",
   "metadata": {},
   "source": [
    "(pendiente)"
   ]
  },
  {
   "cell_type": "code",
   "execution_count": null,
   "metadata": {},
   "outputs": [],
   "source": []
  }
 ],
 "metadata": {
  "kernelspec": {
   "display_name": "Python 3",
   "language": "python",
   "name": "python3"
  },
  "language_info": {
   "codemirror_mode": {
    "name": "ipython",
    "version": 3
   },
   "file_extension": ".py",
   "mimetype": "text/x-python",
   "name": "python",
   "nbconvert_exporter": "python",
   "pygments_lexer": "ipython3",
   "version": "3.6.8"
  }
 },
 "nbformat": 4,
 "nbformat_minor": 4
}
