{
 "cells": [
  {
   "cell_type": "markdown",
   "metadata": {},
   "source": [
    "# **Interactivity with ipywidgets**"
   ]
  },
  {
   "cell_type": "markdown",
   "metadata": {},
   "source": [
    "### This is the faulty code (no Latex in the Output widget), and I changed the Button for an IntSlider"
   ]
  },
  {
   "cell_type": "code",
   "execution_count": 12,
   "metadata": {
    "tags": [
     "interactive"
    ]
   },
   "outputs": [
    {
     "data": {
      "application/vnd.jupyter.widget-view+json": {
       "model_id": "283450ac271f4c118a12bf06ab5ff21d",
       "version_major": 2,
       "version_minor": 0
      },
      "text/plain": [
       "HBox(children=(IntSlider(value=2, description='x', max=10, min=1, readout=False), Output(outputs=({'output_typ…"
      ]
     },
     "metadata": {},
     "output_type": "display_data"
    }
   ],
   "source": [
    "import ipywidgets as widgets\n",
    "from IPython.display import Latex\n",
    "val = 2\n",
    "inp1 = widgets.IntSlider(value = val, min = 1, max = 10, \n",
    "                        description = 'x', readout = False)\n",
    "out1 = widgets.Output()\n",
    "out1.append_display_data(Latex(r'\\({0}^2 = {1}\\)'.format(val,val*val)))\n",
    "def handle_inp1_change(value):\n",
    "    out1.clear_output()\n",
    "    out1.append_display_data(Latex(r'\\({0}^2 = {1}\\)'.format(value.new,value.new*value.new)))\n",
    "inp1.observe(handle_inp1_change,'value')\n",
    "display(widgets.HBox([inp1,out1]))"
   ]
  },
  {
   "cell_type": "markdown",
   "metadata": {},
   "source": [
    "### This code does work, there's no Output widget, and display is through a Label widget"
   ]
  },
  {
   "cell_type": "code",
   "execution_count": 13,
   "metadata": {
    "tags": [
     "interactive"
    ]
   },
   "outputs": [
    {
     "data": {
      "application/vnd.jupyter.widget-view+json": {
       "model_id": "2cca554b77cc4ba8958024fe884f6027",
       "version_major": 2,
       "version_minor": 0
      },
      "text/plain": [
       "HBox(children=(IntSlider(value=2, description='x', max=10, min=1, readout=False), Label(value='\\\\(2^2 = 4\\\\)')…"
      ]
     },
     "metadata": {},
     "output_type": "display_data"
    }
   ],
   "source": [
    "import ipywidgets as widgets\n",
    "val = 2\n",
    "inp = widgets.IntSlider(value = val, min = 1, max = 10, \n",
    "                        description = 'x', readout = False)\n",
    "out = widgets.Label(r'\\({0}^2 = {1}\\)'.format(val,val*val))\n",
    "def handle_inp_change(value):\n",
    "    out.value = r'\\({0}^2 = {1}\\)'.format(value.new,value.new*value.new)\n",
    "inp.observe(handle_inp_change,'value')\n",
    "display(widgets.HBox([inp,out]))"
   ]
  },
  {
   "cell_type": "code",
   "execution_count": null,
   "metadata": {},
   "outputs": [],
   "source": []
  }
 ],
 "metadata": {
  "kernelspec": {
   "display_name": "Python 3",
   "language": "python",
   "name": "python3"
  },
  "language_info": {
   "codemirror_mode": {
    "name": "ipython",
    "version": 3
   },
   "file_extension": ".py",
   "mimetype": "text/x-python",
   "name": "python",
   "nbconvert_exporter": "python",
   "pygments_lexer": "ipython3",
   "version": "3.6.8"
  }
 },
 "nbformat": 4,
 "nbformat_minor": 4
}
