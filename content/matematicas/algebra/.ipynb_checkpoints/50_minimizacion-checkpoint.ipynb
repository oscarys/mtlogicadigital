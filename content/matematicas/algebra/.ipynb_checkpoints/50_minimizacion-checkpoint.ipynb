{
 "cells": [
  {
   "cell_type": "markdown",
   "metadata": {},
   "source": [
    "# **Minimización de funciones lógicas**"
   ]
  },
  {
   "cell_type": "markdown",
   "metadata": {},
   "source": [
    "## Mapas de Karnaugh"
   ]
  },
  {
   "cell_type": "markdown",
   "metadata": {},
   "source": [
    "## Quine-McCluskey"
   ]
  },
  {
   "cell_type": "code",
   "execution_count": 2,
   "metadata": {},
   "outputs": [],
   "source": [
    "from quine_mccluskey.qm import QuineMcCluskey"
   ]
  },
  {
   "cell_type": "code",
   "execution_count": 3,
   "metadata": {},
   "outputs": [],
   "source": [
    "solver = QuineMcCluskey(use_xor=False)"
   ]
  },
  {
   "cell_type": "code",
   "execution_count": 4,
   "metadata": {},
   "outputs": [],
   "source": [
    "fa_si = {'output':'si', 'inputs':['ai','bi','ci'], 'minterms':[1,2,4,7]}\n",
    "fa_co = {'output':'co', 'inputs':['ai','bi','ci'], 'minterms':[3,5,6,7]}\n",
    "fa_si['solution'] = list(solver.simplify(fa_si['minterms'], num_bits=len(fa_si['inputs'])))\n",
    "fa_co['solution'] = list(solver.simplify(fa_co['minterms'], num_bits=len(fa_si['inputs'])))"
   ]
  },
  {
   "cell_type": "code",
   "execution_count": 5,
   "metadata": {},
   "outputs": [],
   "source": [
    "def display_term(term, variables):\n",
    "    var = {'0': [v+\"'\" for v in variables], '1':variables}\n",
    "    tt = [var[pos][ind] for ind,pos in enumerate(term) if pos != '-']\n",
    "    return '*'.join(tt)\n",
    "    \n",
    "def display_function(f):\n",
    "    print(f['output'],' = ', display_term(f['solution'][0],f['inputs']), end='')\n",
    "    for term in f['solution'][1:]:\n",
    "        print(' + ', display_term(term,f['inputs']), end='')\n",
    "    print()        "
   ]
  },
  {
   "cell_type": "code",
   "execution_count": 6,
   "metadata": {},
   "outputs": [
    {
     "name": "stdout",
     "output_type": "stream",
     "text": [
      "si  =  ai'*bi'*ci +  ai'*bi*ci' +  ai*bi'*ci' +  ai*bi*ci\n",
      "co  =  ai*ci +  ai*bi +  bi*ci\n"
     ]
    }
   ],
   "source": [
    "display_function(fa_si)\n",
    "display_function(fa_co)"
   ]
  },
  {
   "cell_type": "markdown",
   "metadata": {},
   "source": [
    "## Espresso"
   ]
  },
  {
   "cell_type": "code",
   "execution_count": null,
   "metadata": {},
   "outputs": [],
   "source": []
  }
 ],
 "metadata": {
  "kernelspec": {
   "display_name": "Python 3",
   "language": "python",
   "name": "python3"
  },
  "language_info": {
   "codemirror_mode": {
    "name": "ipython",
    "version": 3
   },
   "file_extension": ".py",
   "mimetype": "text/x-python",
   "name": "python",
   "nbconvert_exporter": "python",
   "pygments_lexer": "ipython3",
   "version": "3.6.8"
  }
 },
 "nbformat": 4,
 "nbformat_minor": 4
}
