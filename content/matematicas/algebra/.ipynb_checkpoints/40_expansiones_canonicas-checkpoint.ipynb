{
 "cells": [
  {
   "cell_type": "markdown",
   "metadata": {},
   "source": [
    "# **Expansiones canónicas de funciones lógicas**"
   ]
  },
  {
   "cell_type": "markdown",
   "metadata": {},
   "source": [
    "## Suma de minitérminos"
   ]
  },
  {
   "cell_type": "code",
   "execution_count": 48,
   "metadata": {},
   "outputs": [
    {
     "name": "stdout",
     "output_type": "stream",
     "text": [
      "Or(And(~a, b, ~c, ~d), And(~a, ~b, c, ~d), And(a, ~b, c, ~d), And(~a, b, c, ~d), And(a, b, c, ~d), And(~a, b, ~c, d), And(~a, b, c, d))\n"
     ]
    }
   ],
   "source": [
    "from pyeda.inter import *\n",
    "\n",
    "a, b, c, d = map(exprvar, \"abcd\")\n",
    "f0 = (~a & b) | (c & ~d)\n",
    "print(f0.expand([a,b,c,d]))"
   ]
  },
  {
   "cell_type": "markdown",
   "metadata": {},
   "source": [
    "## Producto de maxitérminos "
   ]
  },
  {
   "cell_type": "markdown",
   "metadata": {},
   "source": [
    "## Suma exclusiva de pitérminos"
   ]
  },
  {
   "cell_type": "code",
   "execution_count": null,
   "metadata": {},
   "outputs": [],
   "source": []
  }
 ],
 "metadata": {
  "kernelspec": {
   "display_name": "Python 3",
   "language": "python",
   "name": "python3"
  },
  "language_info": {
   "codemirror_mode": {
    "name": "ipython",
    "version": 3
   },
   "file_extension": ".py",
   "mimetype": "text/x-python",
   "name": "python",
   "nbconvert_exporter": "python",
   "pygments_lexer": "ipython3",
   "version": "3.6.8"
  }
 },
 "nbformat": 4,
 "nbformat_minor": 4
}
