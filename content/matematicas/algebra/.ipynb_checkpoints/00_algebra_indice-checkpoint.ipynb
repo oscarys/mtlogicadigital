{
 "cells": [
  {
   "cell_type": "markdown",
   "metadata": {},
   "source": [
    "# **ÁLGEBRA DE CONMUTACIÓN**"
   ]
  },
  {
   "cell_type": "markdown",
   "metadata": {},
   "source": [
    "(intro al capítulo)"
   ]
  },
  {
   "cell_type": "markdown",
   "metadata": {},
   "source": [
    "## Índice del capítulo\n",
    "\n",
    "* **[Definiciones, axiomas y teoremas](10_algebra_conmutacion)**\n",
    "* **[Conjuntos completos de operadores lógicos](20_conjuntos_completos)**\n",
    "* **[Funciones lógicas](30_funciones_logicas)**\n",
    "* **[Expansiones canónicas](40_expansiones_canonicas)**\n",
    "* **[Minimización de funciones lógicas](50_minimizacion)**"
   ]
  },
  {
   "cell_type": "code",
   "execution_count": null,
   "metadata": {},
   "outputs": [],
   "source": []
  }
 ],
 "metadata": {
  "kernelspec": {
   "display_name": "Python 3",
   "language": "python",
   "name": "python3"
  },
  "language_info": {
   "codemirror_mode": {
    "name": "ipython",
    "version": 3
   },
   "file_extension": ".py",
   "mimetype": "text/x-python",
   "name": "python",
   "nbconvert_exporter": "python",
   "pygments_lexer": "ipython3",
   "version": "3.6.8"
  }
 },
 "nbformat": 4,
 "nbformat_minor": 4
}
