{
 "cells": [
  {
   "cell_type": "markdown",
   "metadata": {},
   "source": [
    "# **LÓGICA RECONFIGURABLE**"
   ]
  },
  {
   "cell_type": "markdown",
   "metadata": {},
   "source": [
    "(intro al capítulo)"
   ]
  },
  {
   "cell_type": "markdown",
   "metadata": {},
   "source": [
    "## Índice del capítulo\n",
    "\n",
    "* **[Arquitecturas de lógica reconfigurable](10_arquitecturas_reconfigurables)**\n",
    "* **[Flujos de diseño](20_flujo_diseno)**\n",
    "* **[Lenguajes de descripción de hardware](30_hdls)**\n",
    "* **[Traducción de tablas de verdad a HDL](40_tablas_verdad_hdl)**\n",
    "* **[Traducción de diagramas de transición a HDL](50_std_hdl)**\n",
    "* **[Traducción de máquinas de estado algorítmicas a HDL](60_asm_hdl)**"
   ]
  },
  {
   "cell_type": "code",
   "execution_count": null,
   "metadata": {},
   "outputs": [],
   "source": []
  }
 ],
 "metadata": {
  "kernelspec": {
   "display_name": "Python 3",
   "language": "python",
   "name": "python3"
  },
  "language_info": {
   "codemirror_mode": {
    "name": "ipython",
    "version": 3
   },
   "file_extension": ".py",
   "mimetype": "text/x-python",
   "name": "python",
   "nbconvert_exporter": "python",
   "pygments_lexer": "ipython3",
   "version": "3.6.8"
  }
 },
 "nbformat": 4,
 "nbformat_minor": 4
}
