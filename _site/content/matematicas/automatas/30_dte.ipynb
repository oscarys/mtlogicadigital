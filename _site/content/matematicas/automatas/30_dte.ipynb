{
 "cells": [
  {
   "cell_type": "markdown",
   "metadata": {},
   "source": [
    "# **Diagramas de transición de estado**"
   ]
  },
  {
   "cell_type": "code",
   "execution_count": 15,
   "metadata": {
    "tags": [
     "hide_input"
    ]
   },
   "outputs": [
    {
     "data": {
      "image/png": "[encoded data removed]",
      "text/plain": [
       "<IPython.core.display.Image object>"
      ]
     },
     "execution_count": 15,
     "metadata": {},
     "output_type": "execute_result"
    }
   ],
   "source": [
    "import networkx as nx\n",
    "from nxpd import draw\n",
    "G = nx.cycle_graph(4, create_using=nx.DiGraph())\n",
    "G.graph['rankdir'] = 'LR'\n",
    "draw(G, show='ipynb')"
   ]
  },
  {
   "cell_type": "code",
   "execution_count": 33,
   "metadata": {
    "tags": [
     "hide_input"
    ]
   },
   "outputs": [],
   "source": [
    "from transitions.extensions import GraphMachine\n",
    "\n",
    "states = ['first', 'second', 'last']\n",
    "transitions = [\n",
    "    {'trigger': 'move', 'source': 'first', 'dest': 'second'},\n",
    "    {'trigger': 'go', 'source': 'second', 'dest': 'last'},\n",
    "    {'trigger': 'end', 'source': 'last', 'dest': 'first'},\n",
    "    {'trigger': 'nope', 'source': 'first', 'dest': 'first'},\n",
    "]"
   ]
  },
  {
   "cell_type": "code",
   "execution_count": 47,
   "metadata": {
    "tags": [
     "hide_input"
    ]
   },
   "outputs": [],
   "source": [
    "class Basic(object): pass\n",
    "\n",
    "machine = GraphMachine(model=Basic,\n",
    "                       states=states,\n",
    "                       transitions=transitions,\n",
    "                       initial='first',\n",
    "                       auto_transitions=False,\n",
    "                       show_conditions=True,\n",
    "                       title='Bla'\n",
    "                       )\n",
    "machine.get_graph().draw('./fsm.png', prog='dot')"
   ]
  },
  {
   "cell_type": "markdown",
   "metadata": {},
   "source": [
    "<img src=\"./fsm.png\" alt=\"fsm\" align=\"center\">"
   ]
  },
  {
   "cell_type": "code",
   "execution_count": null,
   "metadata": {},
   "outputs": [],
   "source": []
  }
 ],
 "metadata": {
  "kernelspec": {
   "display_name": "Python 3",
   "language": "python",
   "name": "python3"
  },
  "language_info": {
   "codemirror_mode": {
    "name": "ipython",
    "version": 3
   },
   "file_extension": ".py",
   "mimetype": "text/x-python",
   "name": "python",
   "nbconvert_exporter": "python",
   "pygments_lexer": "ipython3",
   "version": "3.6.8"
  }
 },
 "nbformat": 4,
 "nbformat_minor": 4
}
