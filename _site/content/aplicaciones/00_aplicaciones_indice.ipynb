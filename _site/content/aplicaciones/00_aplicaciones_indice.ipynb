{
 "cells": [
  {
   "cell_type": "markdown",
   "metadata": {},
   "source": [
    "# **APLICACIONES**"
   ]
  },
  {
   "cell_type": "markdown",
   "metadata": {},
   "source": [
    "(intro del capítulo)"
   ]
  },
  {
   "cell_type": "markdown",
   "metadata": {},
   "source": [
    "## Índice del capítulo\n",
    "\n",
    "* **[Convertidor de binario  a BCD](10_convertidor_binario_bcd)**\n",
    "* **[Comparador de magnitud](20_comparador_magnitud)**\n",
    "* **[Filtro digital FIR](30_filtro_fir)**\n",
    "* **[Unidad lógica-aritmética](40_alu)**\n",
    "* **[Multiplicador-acumulador (MAC)](50_mac)**\n",
    "* **[Secuenciador cableado](60_secuenciador_cableado)**\n",
    "* **[Secuenciador microprogramado](70_secuenciador_microprogramado)**"
   ]
  },
  {
   "cell_type": "code",
   "execution_count": null,
   "metadata": {},
   "outputs": [],
   "source": []
  }
 ],
 "metadata": {
  "kernelspec": {
   "display_name": "Python 3",
   "language": "python",
   "name": "python3"
  },
  "language_info": {
   "codemirror_mode": {
    "name": "ipython",
    "version": 3
   },
   "file_extension": ".py",
   "mimetype": "text/x-python",
   "name": "python",
   "nbconvert_exporter": "python",
   "pygments_lexer": "ipython3",
   "version": "3.6.8"
  }
 },
 "nbformat": 4,
 "nbformat_minor": 4
}
